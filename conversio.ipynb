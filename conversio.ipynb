{
 "cells": [
  {
   "cell_type": "code",
   "execution_count": 4,
   "metadata": {},
   "outputs": [
    {
     "name": "stdout",
     "output_type": "stream",
     "text": [
      "Archivo base_cons.csv guardado con éxito.\n",
      "Archivo feed.csv guardado con éxito.\n",
      "Archivo grupo_sup.csv guardado con éxito.\n",
      "Archivo tipi.csv guardado con éxito.\n"
     ]
    }
   ],
   "source": [
    "import pandas as pd\n",
    "\n",
    "# Definir las rutas de los archivos Excel y los nombres de los archivos CSV que deseas generar\n",
    "excel_files = ['xlsx/base_cons.xlsx', 'xlsx/feed.xlsx', 'xlsx/grupo_sup.xlsx','xlsx/tipi.xlsx']\n",
    "csv_files = ['csv/base_cons.csv', 'csv/feed.csv', 'csv/grupo_sup.csv','csv/tipi.csv']\n",
    "\n",
    "# Convertir cada archivo Excel a CSV\n",
    "for excel_file, csv_file in zip(excel_files, csv_files):\n",
    "    # Leer el archivo Excel\n",
    "    df = pd.read_excel(excel_file)\n",
    "    # Guardar como CSV\n",
    "    df.to_csv(csv_file, index=False)\n",
    "    print(f'Archivo {csv_file} guardado con éxito.')\n",
    "\n"
   ]
  }
 ],
 "metadata": {
  "kernelspec": {
   "display_name": "base",
   "language": "python",
   "name": "python3"
  },
  "language_info": {
   "codemirror_mode": {
    "name": "ipython",
    "version": 3
   },
   "file_extension": ".py",
   "mimetype": "text/x-python",
   "name": "python",
   "nbconvert_exporter": "python",
   "pygments_lexer": "ipython3",
   "version": "3.9.12"
  }
 },
 "nbformat": 4,
 "nbformat_minor": 2
}
